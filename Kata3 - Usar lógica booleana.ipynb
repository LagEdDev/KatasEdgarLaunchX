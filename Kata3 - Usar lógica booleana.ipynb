{
 "cells": [
  {
   "cell_type": "markdown",
   "metadata": {},
   "source": [
    "# Ejercicio - Escribir declaraciones `if`, `else`, y `elif`"
   ]
  },
  {
   "cell_type": "markdown",
   "metadata": {},
   "source": [
    "Para este ejercicio, escribirás una lógica condicional que imprima una advertencia si un asteroide se acerca a la Tierra demasiado rápido. La velocidad del asteroide varía dependiendo de lo cerca que esté del sol, y cualquier velocidad superior a 25 kilómetros por segundo (km/s) merece una advertencia.\n",
    "\n",
    "Un asteroide se acerca, y viaja a una velocidad de 49 km/s."
   ]
  },
  {
   "cell_type": "code",
   "execution_count": 3,
   "metadata": {},
   "outputs": [
    {
     "name": "stdout",
     "output_type": "stream",
     "text": [
      "Se acerca un asteroide a gran velocidad\n"
     ]
    }
   ],
   "source": [
    "asteroidVel = 49\n",
    "\n",
    "if asteroidVel > 25:\n",
    "    print ('Se acerca un asteroide a gran velocidad')\n",
    "else:\n",
    "    print ('Todo en orden')"
   ]
  },
  {
   "cell_type": "markdown",
   "metadata": {},
   "source": [
    "Si un asteroide entra en la atmósfera de la Tierra a una velocidad mayor o igual a 20 km/s, a veces produce un rayo de luz que se puede ver desde la Tierra. Escribe la lógica condicional que usa declaraciones if, else, y elif para alertar a las personas de todo el mundo que deben buscar un asteroide en el cielo. ¡Hay uno que se dirige a la tierra ahora a una velocidad de 19 km/s!"
   ]
  },
  {
   "cell_type": "code",
   "execution_count": 8,
   "metadata": {},
   "outputs": [
    {
     "name": "stdout",
     "output_type": "stream",
     "text": [
      "Todo en orden\n"
     ]
    }
   ],
   "source": [
    "asteroidVel = 19\n",
    "\n",
    "if asteroidVel >= 20:\n",
    "    print ('Busca un rayo de luz, es un asteroide')\n",
    "else:\n",
    "    print ('Todo en orden')"
   ]
  },
  {
   "cell_type": "markdown",
   "metadata": {},
   "source": [
    "# Ejercicio: Uso de operadores and y or"
   ]
  },
  {
   "cell_type": "code",
   "execution_count": 59,
   "metadata": {},
   "outputs": [
    {
     "name": "stdout",
     "output_type": "stream",
     "text": [
      "Se acerca un asteroide a gran velocidad\n",
      "Ya mejor despídete de tu perro :( se acerca un asteroide gigante\n",
      "Busca un rayo de luz, es un asteroide\n"
     ]
    }
   ],
   "source": [
    "asteroidVel = 26\n",
    "asteroidSize = 1000\n",
    "\n",
    "if asteroidVel > 25:\n",
    "    print ('Se acerca un asteroide a gran velocidad')\n",
    "\n",
    "if asteroidSize > 25 and asteroidSize < 1000:\n",
    "    print ('Alerta! Se acerca un asteroide de tamaño peligroso')\n",
    "elif asteroidSize >= 1000:\n",
    "    print ('Ya mejor despídete de tu perro :( se acerca un asteroide gigante')\n",
    "\n",
    "if asteroidVel >= 20:\n",
    "    print ('Busca un rayo de luz, es un asteroide')\n",
    "\n",
    "if asteroidVel < 20 and asteroidSize <= 25:\n",
    "    print ('Todo en orden')"
   ]
  }
 ],
 "metadata": {
  "interpreter": {
   "hash": "9c72e924a36835a85173fc8e27319799ac9210037593ff220d50c2c29cf8c123"
  },
  "kernelspec": {
   "display_name": "Python 3.9.7 ('base')",
   "language": "python",
   "name": "python3"
  },
  "language_info": {
   "codemirror_mode": {
    "name": "ipython",
    "version": 3
   },
   "file_extension": ".py",
   "mimetype": "text/x-python",
   "name": "python",
   "nbconvert_exporter": "python",
   "pygments_lexer": "ipython3",
   "version": "3.9.7"
  },
  "orig_nbformat": 4
 },
 "nbformat": 4,
 "nbformat_minor": 2
}
