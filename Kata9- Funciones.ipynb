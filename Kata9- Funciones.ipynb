{
  "cells": [
    {
      "cell_type": "markdown",
      "metadata": {},
      "source": [
        "# Ejercicio: Uso de funciones en Python"
      ]
    },
    {
      "cell_type": "markdown",
      "metadata": {},
      "source": [
        "### Ejercicio 1: Trabajar con argumentos en funciones\n",
        "\n",
        "Los argumentos requeridos en las funciones se utilizan cuando las funciones necesitan que esos argumentos funcionen correctamente. En este ejercicio, construirás un informe de combustible que requiere información de varias ubicaciones de combustible en todo el cohete.\n",
        "\n"
      ]
    },
    {
      "cell_type": "markdown",
      "metadata": {},
      "source": [
        "> **TIP**\n",
        "> Dedica unos minutos para tratar de encontrar una solución. Luego desplázate hacia abajo hasta la parte inferior para ver si has logrado compilar el programa de acuerdo con las especificaciones\n",
        "\n",
        "Comienza por crear una función que necesite tres lecturas de combustible y devuelva un informe:"
      ]
    },
    {
      "cell_type": "code",
      "execution_count": 58,
      "metadata": {},
      "outputs": [],
      "source": [
        "# Función para leer 3 tanques de combustible y muestre el promedio\n",
        "def FuelReport(tank1, tank2, tank3):\n",
        "    return f'Tank 1 is at {tank1}%\\nTank 2 is at {tank2}%\\nTank 3 is at {tank3}%\\nTank average is {(tank1 + tank2 + tank3) / 3}%'"
      ]
    },
    {
      "cell_type": "markdown",
      "metadata": {},
      "source": [
        "Ahora que hemos definido la función de informes, vamos a comprobarlo. Para esta misión, los tanques no están llenos:"
      ]
    },
    {
      "cell_type": "code",
      "execution_count": 59,
      "metadata": {},
      "outputs": [
        {
          "name": "stdout",
          "output_type": "stream",
          "text": [
            "Tank 1 is at 0%\n",
            "Tank 2 is at 0%\n",
            "Tank 3 is at 0%\n",
            "Tank average is 0.0%\n"
          ]
        }
      ],
      "source": [
        "\n",
        "# Llamamos a la función que genera el reporte print(funcion(tanque1, tanque2, tanque3))\n",
        "print(FuelReport(0, 0, 0))"
      ]
    },
    {
      "cell_type": "markdown",
      "metadata": {},
      "source": [
        "En lugar de simplemente crear el informe, la función también está calculando el promedio. Mejora la legibilidad extrayendo el cálculo promedio de la función en una nueva función para que el promedio se pueda hacer de forma independiente:"
      ]
    },
    {
      "cell_type": "code",
      "execution_count": 60,
      "metadata": {},
      "outputs": [],
      "source": [
        "# Función promedio\n",
        "def Average(values):\n",
        "    average = 0\n",
        "    for value in values:\n",
        "        average += value\n",
        "\n",
        "    return average / len(values)"
      ]
    },
    {
      "cell_type": "markdown",
      "metadata": {},
      "source": [
        "Ahora actualiza la función de informes para llamando a la nueva función del promedio:\n"
      ]
    },
    {
      "cell_type": "code",
      "execution_count": 61,
      "metadata": {},
      "outputs": [
        {
          "name": "stdout",
          "output_type": "stream",
          "text": [
            "Tank 1 is at 18%\n",
            "Tank 2 is at 50%\n",
            "Tank 3 is at 74%\n",
            "Tank average is 47.333333333333336%\n"
          ]
        }
      ],
      "source": [
        "# Actualiza la función\n",
        "def FuelReport(tank1, tank2, tank3):\n",
        "    values = [tank1, tank2, tank3]\n",
        "    return f'Tank 1 is at {tank1}%\\nTank 2 is at {tank2}%\\nTank 3 is at {tank3}%\\nTank average is {Average(values)}%'\n",
        "\n",
        "print(FuelReport(18, 50, 74))"
      ]
    },
    {
      "cell_type": "markdown",
      "metadata": {},
      "source": [
        "> Recuerda: Lo importante es intentarlo, puedes auxiliarte de internet, libros, etc. El objetivo de una kata es la comprobación de la comprensión de la lección y su aplicación inmediata a la resolución de problemas. Go for it!"
      ]
    },
    {
      "cell_type": "markdown",
      "metadata": {},
      "source": [
        "## Ejercicio 2: Trabajo con argumentos de palabra clave"
      ]
    },
    {
      "cell_type": "markdown",
      "metadata": {},
      "source": [
        "### Ejercicio : Trabajar con argumentos de palabras clave en funciones\n",
        "En este ejercicio, construirás un informe de cohete que requiere varias piezas de información, como el tiempo hasta el destino, el combustible a la izquierda y el nombre del destino. Comienza por crear una función que creará un informe preciso de la misión:"
      ]
    },
    {
      "cell_type": "code",
      "execution_count": 57,
      "metadata": {},
      "outputs": [
        {
          "name": "stdout",
          "output_type": "stream",
          "text": [
            "The current destination is: Moon\n",
            "The total travel time is: 92 min\n",
            "The tank are at: 83.0%\n",
            "    \n"
          ]
        }
      ],
      "source": [
        "# Función con un informe preciso de la misión. Considera hora de prelanzamiento, tiempo de vuelo, destino, tanque externo y tanque interno\n",
        "def MissionReport(prelaunchTime, flightTtime, destination, externalTank, internalTank):\n",
        "    return f\"\"\"The current destination is: {destination}\n",
        "The total travel time is: {prelaunchTime + flightTtime} min\n",
        "The tank are at: {(externalTank + internalTank) / 2}%\n",
        "    \"\"\"\n",
        "\n",
        "print(MissionReport(25, 67, \"Moon\", 95, 71))"
      ]
    },
    {
      "cell_type": "markdown",
      "metadata": {},
      "source": [
        "La función es problemática porque no se puede adaptar para minutos adicionales o tanques adicionales de combustible. Hazlo más flexible permitiendo cualquier número de pasos basados en el tiempo y cualquier número de tanques. En lugar de usar `*args` y `**kwargs`, aprovecha el hecho de que puedes usar cualquier nombre que desees. Asegurate que la función sea más legible mediante el uso de nombres de variables que están asociados con las entradas, como `*minutes` y `**fuel_reservoirs`:"
      ]
    },
    {
      "cell_type": "code",
      "execution_count": 56,
      "metadata": {},
      "outputs": [
        {
          "name": "stdout",
          "output_type": "stream",
          "text": [
            "The current destination is: Moon\n",
            "The total travel time is: 92 min\n",
            "The tanks average is at: 83.0%\n",
            "\n"
          ]
        }
      ],
      "source": [
        "# Escribe tu nueva función de reporte considerando lo anterior\n",
        "def NewMissionReport(destination, *minutes, **fuelReservoirs):\n",
        "    totalMin = sum(minutes)\n",
        "    tankAverage = sum(fuelReservoirs.values()) / len(fuelReservoirs)\n",
        "    return f\"\"\"The current destination is: {destination}\n",
        "The total travel time is: {totalMin} min\n",
        "The tanks average is at: {tankAverage}%\n",
        "\"\"\" \n",
        "print(NewMissionReport('Moon', 25, 67, external=95, internal=71))"
      ]
    },
    {
      "cell_type": "markdown",
      "metadata": {},
      "source": [
        "Debido a que el combustible que queda en los tanques es específico de cada tanque, actualiza la función para usar el nombre de cada tanque en el informe:"
      ]
    },
    {
      "cell_type": "code",
      "execution_count": 55,
      "metadata": {},
      "outputs": [
        {
          "name": "stdout",
          "output_type": "stream",
          "text": [
            "The current destination is: Moon\n",
            "The total travel time is: 100 min\n",
            "The external tank has 95%\n",
            "The internal tank has 71%\n",
            "The extremelyBigTank tank has 100%\n",
            "The tanks average is at: 88.66666666666667%\n",
            "\n"
          ]
        }
      ],
      "source": [
        "# Escribe tu nueva función\n",
        "def NewMissionReport(destination, *minutes, **fuelReservoirs):\n",
        "    totalMin = sum(minutes)\n",
        "    tankAverage = sum(fuelReservoirs.values()) / len(fuelReservoirs)\n",
        "    tanks = ''\n",
        "    for tankName, tankFuel in fuelReservoirs.items():\n",
        "        tanks += f'The {tankName} tank has {tankFuel}%\\n'\n",
        "            \n",
        "    return f\"\"\"The current destination is: {destination}\n",
        "The total travel time is: {totalMin} min\n",
        "{tanks}The tanks average is at: {tankAverage}%\n",
        "\"\"\" \n",
        "print(NewMissionReport('Moon', 25, 67, 8, external=95, internal=71, extremelyBigTank=100))"
      ]
    },
    {
      "cell_type": "markdown",
      "metadata": {},
      "source": [
        "---\n",
        "\n",
        "Curso Propedútico de Python para Launch X - Innovacción Virtual.\n",
        "\n",
        "Material desarrollado con base en los contenidos de MSLearn y la metáfora de LaunchX, traducción e implementación por: Fernanda Ochoa - Learning Producer de LaunchX.\n",
        "\n",
        "Redes:\n",
        "* GitHub: [FernandaOchoa](https://github.com/FernandaOchoa)\n",
        "* Twitter: [@imonsh](https://twitter.com/imonsh)\n",
        "* Instagram: [fherz8a](https://www.instagram.com/fherz8a/)"
      ]
    }
  ],
  "metadata": {
    "interpreter": {
      "hash": "205095b8b86ea82a021a8fc2ffba2b3bc9f8d0be25999901963b225939f75778"
    },
    "kernelspec": {
      "display_name": "Python 3.8.10 64-bit ('tmp': conda)",
      "name": "python3"
    },
    "language_info": {
      "codemirror_mode": {
        "name": "ipython",
        "version": 3
      },
      "file_extension": ".py",
      "mimetype": "text/x-python",
      "name": "python",
      "nbconvert_exporter": "python",
      "pygments_lexer": "ipython3",
      "version": "3.9.7"
    },
    "nteract": {
      "version": "nteract-front-end@1.0.0"
    },
    "orig_nbformat": 4
  },
  "nbformat": 4,
  "nbformat_minor": 2
}
